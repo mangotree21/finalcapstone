{
 "cells": [
  {
   "cell_type": "code",
   "execution_count": 20,
   "metadata": {},
   "outputs": [],
   "source": [
    "import spacy \n",
    "nlp = spacy.load('en_core_web_sm')\n",
    "\n"
   ]
  },
  {
   "cell_type": "code",
   "execution_count": 6,
   "metadata": {},
   "outputs": [
    {
     "data": {
      "text/html": [
       "<div>\n",
       "<style scoped>\n",
       "    .dataframe tbody tr th:only-of-type {\n",
       "        vertical-align: middle;\n",
       "    }\n",
       "\n",
       "    .dataframe tbody tr th {\n",
       "        vertical-align: top;\n",
       "    }\n",
       "\n",
       "    .dataframe thead th {\n",
       "        text-align: right;\n",
       "    }\n",
       "</style>\n",
       "<table border=\"1\" class=\"dataframe\">\n",
       "  <thead>\n",
       "    <tr style=\"text-align: right;\">\n",
       "      <th></th>\n",
       "      <th>id</th>\n",
       "      <th>dateAdded</th>\n",
       "      <th>dateUpdated</th>\n",
       "      <th>name</th>\n",
       "      <th>asins</th>\n",
       "      <th>brand</th>\n",
       "      <th>categories</th>\n",
       "      <th>primaryCategories</th>\n",
       "      <th>imageURLs</th>\n",
       "      <th>keys</th>\n",
       "      <th>...</th>\n",
       "      <th>reviews.dateSeen</th>\n",
       "      <th>reviews.doRecommend</th>\n",
       "      <th>reviews.id</th>\n",
       "      <th>reviews.numHelpful</th>\n",
       "      <th>reviews.rating</th>\n",
       "      <th>reviews.sourceURLs</th>\n",
       "      <th>reviews.text</th>\n",
       "      <th>reviews.title</th>\n",
       "      <th>reviews.username</th>\n",
       "      <th>sourceURLs</th>\n",
       "    </tr>\n",
       "  </thead>\n",
       "  <tbody>\n",
       "    <tr>\n",
       "      <th>0</th>\n",
       "      <td>AVqVGZNvQMlgsOJE6eUY</td>\n",
       "      <td>2017-03-03T16:56:05Z</td>\n",
       "      <td>2018-10-25T16:36:31Z</td>\n",
       "      <td>Amazon Kindle E-Reader 6\" Wifi (8th Generation...</td>\n",
       "      <td>B00ZV9PXP2</td>\n",
       "      <td>Amazon</td>\n",
       "      <td>Computers,Electronics Features,Tablets,Electro...</td>\n",
       "      <td>Electronics</td>\n",
       "      <td>https://pisces.bbystatic.com/image2/BestBuy_US...</td>\n",
       "      <td>allnewkindleereaderblack6glarefreetouchscreend...</td>\n",
       "      <td>...</td>\n",
       "      <td>2018-05-27T00:00:00Z,2017-09-18T00:00:00Z,2017...</td>\n",
       "      <td>False</td>\n",
       "      <td>NaN</td>\n",
       "      <td>0</td>\n",
       "      <td>3</td>\n",
       "      <td>http://reviews.bestbuy.com/3545/5442403/review...</td>\n",
       "      <td>I thought it would be as big as small paper bu...</td>\n",
       "      <td>Too small</td>\n",
       "      <td>llyyue</td>\n",
       "      <td>https://www.newegg.com/Product/Product.aspx%25...</td>\n",
       "    </tr>\n",
       "    <tr>\n",
       "      <th>1</th>\n",
       "      <td>AVqVGZNvQMlgsOJE6eUY</td>\n",
       "      <td>2017-03-03T16:56:05Z</td>\n",
       "      <td>2018-10-25T16:36:31Z</td>\n",
       "      <td>Amazon Kindle E-Reader 6\" Wifi (8th Generation...</td>\n",
       "      <td>B00ZV9PXP2</td>\n",
       "      <td>Amazon</td>\n",
       "      <td>Computers,Electronics Features,Tablets,Electro...</td>\n",
       "      <td>Electronics</td>\n",
       "      <td>https://pisces.bbystatic.com/image2/BestBuy_US...</td>\n",
       "      <td>allnewkindleereaderblack6glarefreetouchscreend...</td>\n",
       "      <td>...</td>\n",
       "      <td>2018-05-27T00:00:00Z,2017-07-07T00:00:00Z,2017...</td>\n",
       "      <td>True</td>\n",
       "      <td>NaN</td>\n",
       "      <td>0</td>\n",
       "      <td>5</td>\n",
       "      <td>http://reviews.bestbuy.com/3545/5442403/review...</td>\n",
       "      <td>This kindle is light and easy to use especiall...</td>\n",
       "      <td>Great light reader. Easy to use at the beach</td>\n",
       "      <td>Charmi</td>\n",
       "      <td>https://www.newegg.com/Product/Product.aspx%25...</td>\n",
       "    </tr>\n",
       "    <tr>\n",
       "      <th>2</th>\n",
       "      <td>AVqVGZNvQMlgsOJE6eUY</td>\n",
       "      <td>2017-03-03T16:56:05Z</td>\n",
       "      <td>2018-10-25T16:36:31Z</td>\n",
       "      <td>Amazon Kindle E-Reader 6\" Wifi (8th Generation...</td>\n",
       "      <td>B00ZV9PXP2</td>\n",
       "      <td>Amazon</td>\n",
       "      <td>Computers,Electronics Features,Tablets,Electro...</td>\n",
       "      <td>Electronics</td>\n",
       "      <td>https://pisces.bbystatic.com/image2/BestBuy_US...</td>\n",
       "      <td>allnewkindleereaderblack6glarefreetouchscreend...</td>\n",
       "      <td>...</td>\n",
       "      <td>2018-05-27T00:00:00Z</td>\n",
       "      <td>True</td>\n",
       "      <td>NaN</td>\n",
       "      <td>0</td>\n",
       "      <td>4</td>\n",
       "      <td>https://reviews.bestbuy.com/3545/5442403/revie...</td>\n",
       "      <td>Didnt know how much i'd use a kindle so went f...</td>\n",
       "      <td>Great for the price</td>\n",
       "      <td>johnnyjojojo</td>\n",
       "      <td>https://www.newegg.com/Product/Product.aspx%25...</td>\n",
       "    </tr>\n",
       "    <tr>\n",
       "      <th>3</th>\n",
       "      <td>AVqVGZNvQMlgsOJE6eUY</td>\n",
       "      <td>2017-03-03T16:56:05Z</td>\n",
       "      <td>2018-10-25T16:36:31Z</td>\n",
       "      <td>Amazon Kindle E-Reader 6\" Wifi (8th Generation...</td>\n",
       "      <td>B00ZV9PXP2</td>\n",
       "      <td>Amazon</td>\n",
       "      <td>Computers,Electronics Features,Tablets,Electro...</td>\n",
       "      <td>Electronics</td>\n",
       "      <td>https://pisces.bbystatic.com/image2/BestBuy_US...</td>\n",
       "      <td>allnewkindleereaderblack6glarefreetouchscreend...</td>\n",
       "      <td>...</td>\n",
       "      <td>2018-10-09T00:00:00Z</td>\n",
       "      <td>True</td>\n",
       "      <td>177283626.0</td>\n",
       "      <td>3</td>\n",
       "      <td>5</td>\n",
       "      <td>https://redsky.target.com/groot-domain-api/v1/...</td>\n",
       "      <td>I am 100 happy with my purchase. I caught it o...</td>\n",
       "      <td>A Great Buy</td>\n",
       "      <td>Kdperry</td>\n",
       "      <td>https://www.newegg.com/Product/Product.aspx%25...</td>\n",
       "    </tr>\n",
       "    <tr>\n",
       "      <th>4</th>\n",
       "      <td>AVqVGZNvQMlgsOJE6eUY</td>\n",
       "      <td>2017-03-03T16:56:05Z</td>\n",
       "      <td>2018-10-25T16:36:31Z</td>\n",
       "      <td>Amazon Kindle E-Reader 6\" Wifi (8th Generation...</td>\n",
       "      <td>B00ZV9PXP2</td>\n",
       "      <td>Amazon</td>\n",
       "      <td>Computers,Electronics Features,Tablets,Electro...</td>\n",
       "      <td>Electronics</td>\n",
       "      <td>https://pisces.bbystatic.com/image2/BestBuy_US...</td>\n",
       "      <td>allnewkindleereaderblack6glarefreetouchscreend...</td>\n",
       "      <td>...</td>\n",
       "      <td>2018-05-27T00:00:00Z</td>\n",
       "      <td>True</td>\n",
       "      <td>NaN</td>\n",
       "      <td>0</td>\n",
       "      <td>5</td>\n",
       "      <td>https://reviews.bestbuy.com/3545/5442403/revie...</td>\n",
       "      <td>Solid entry level Kindle. Great for kids. Gift...</td>\n",
       "      <td>Solid entry-level Kindle. Great for kids</td>\n",
       "      <td>Johnnyblack</td>\n",
       "      <td>https://www.newegg.com/Product/Product.aspx%25...</td>\n",
       "    </tr>\n",
       "  </tbody>\n",
       "</table>\n",
       "<p>5 rows × 24 columns</p>\n",
       "</div>"
      ],
      "text/plain": [
       "                     id             dateAdded           dateUpdated  \\\n",
       "0  AVqVGZNvQMlgsOJE6eUY  2017-03-03T16:56:05Z  2018-10-25T16:36:31Z   \n",
       "1  AVqVGZNvQMlgsOJE6eUY  2017-03-03T16:56:05Z  2018-10-25T16:36:31Z   \n",
       "2  AVqVGZNvQMlgsOJE6eUY  2017-03-03T16:56:05Z  2018-10-25T16:36:31Z   \n",
       "3  AVqVGZNvQMlgsOJE6eUY  2017-03-03T16:56:05Z  2018-10-25T16:36:31Z   \n",
       "4  AVqVGZNvQMlgsOJE6eUY  2017-03-03T16:56:05Z  2018-10-25T16:36:31Z   \n",
       "\n",
       "                                                name       asins   brand  \\\n",
       "0  Amazon Kindle E-Reader 6\" Wifi (8th Generation...  B00ZV9PXP2  Amazon   \n",
       "1  Amazon Kindle E-Reader 6\" Wifi (8th Generation...  B00ZV9PXP2  Amazon   \n",
       "2  Amazon Kindle E-Reader 6\" Wifi (8th Generation...  B00ZV9PXP2  Amazon   \n",
       "3  Amazon Kindle E-Reader 6\" Wifi (8th Generation...  B00ZV9PXP2  Amazon   \n",
       "4  Amazon Kindle E-Reader 6\" Wifi (8th Generation...  B00ZV9PXP2  Amazon   \n",
       "\n",
       "                                          categories primaryCategories  \\\n",
       "0  Computers,Electronics Features,Tablets,Electro...       Electronics   \n",
       "1  Computers,Electronics Features,Tablets,Electro...       Electronics   \n",
       "2  Computers,Electronics Features,Tablets,Electro...       Electronics   \n",
       "3  Computers,Electronics Features,Tablets,Electro...       Electronics   \n",
       "4  Computers,Electronics Features,Tablets,Electro...       Electronics   \n",
       "\n",
       "                                           imageURLs  \\\n",
       "0  https://pisces.bbystatic.com/image2/BestBuy_US...   \n",
       "1  https://pisces.bbystatic.com/image2/BestBuy_US...   \n",
       "2  https://pisces.bbystatic.com/image2/BestBuy_US...   \n",
       "3  https://pisces.bbystatic.com/image2/BestBuy_US...   \n",
       "4  https://pisces.bbystatic.com/image2/BestBuy_US...   \n",
       "\n",
       "                                                keys  ...  \\\n",
       "0  allnewkindleereaderblack6glarefreetouchscreend...  ...   \n",
       "1  allnewkindleereaderblack6glarefreetouchscreend...  ...   \n",
       "2  allnewkindleereaderblack6glarefreetouchscreend...  ...   \n",
       "3  allnewkindleereaderblack6glarefreetouchscreend...  ...   \n",
       "4  allnewkindleereaderblack6glarefreetouchscreend...  ...   \n",
       "\n",
       "                                    reviews.dateSeen reviews.doRecommend  \\\n",
       "0  2018-05-27T00:00:00Z,2017-09-18T00:00:00Z,2017...               False   \n",
       "1  2018-05-27T00:00:00Z,2017-07-07T00:00:00Z,2017...                True   \n",
       "2                               2018-05-27T00:00:00Z                True   \n",
       "3                               2018-10-09T00:00:00Z                True   \n",
       "4                               2018-05-27T00:00:00Z                True   \n",
       "\n",
       "    reviews.id reviews.numHelpful reviews.rating  \\\n",
       "0          NaN                  0              3   \n",
       "1          NaN                  0              5   \n",
       "2          NaN                  0              4   \n",
       "3  177283626.0                  3              5   \n",
       "4          NaN                  0              5   \n",
       "\n",
       "                                  reviews.sourceURLs  \\\n",
       "0  http://reviews.bestbuy.com/3545/5442403/review...   \n",
       "1  http://reviews.bestbuy.com/3545/5442403/review...   \n",
       "2  https://reviews.bestbuy.com/3545/5442403/revie...   \n",
       "3  https://redsky.target.com/groot-domain-api/v1/...   \n",
       "4  https://reviews.bestbuy.com/3545/5442403/revie...   \n",
       "\n",
       "                                        reviews.text  \\\n",
       "0  I thought it would be as big as small paper bu...   \n",
       "1  This kindle is light and easy to use especiall...   \n",
       "2  Didnt know how much i'd use a kindle so went f...   \n",
       "3  I am 100 happy with my purchase. I caught it o...   \n",
       "4  Solid entry level Kindle. Great for kids. Gift...   \n",
       "\n",
       "                                  reviews.title  reviews.username  \\\n",
       "0                                     Too small            llyyue   \n",
       "1  Great light reader. Easy to use at the beach            Charmi   \n",
       "2                           Great for the price      johnnyjojojo   \n",
       "3                                   A Great Buy           Kdperry   \n",
       "4      Solid entry-level Kindle. Great for kids       Johnnyblack   \n",
       "\n",
       "                                          sourceURLs  \n",
       "0  https://www.newegg.com/Product/Product.aspx%25...  \n",
       "1  https://www.newegg.com/Product/Product.aspx%25...  \n",
       "2  https://www.newegg.com/Product/Product.aspx%25...  \n",
       "3  https://www.newegg.com/Product/Product.aspx%25...  \n",
       "4  https://www.newegg.com/Product/Product.aspx%25...  \n",
       "\n",
       "[5 rows x 24 columns]"
      ]
     },
     "execution_count": 6,
     "metadata": {},
     "output_type": "execute_result"
    }
   ],
   "source": [
    "import pandas as pd\n",
    "df = pd.read_csv('amazon_product_reviews.csv', sep = ',', header = 0 )\n",
    "df.head(5)"
   ]
  },
  {
   "cell_type": "code",
   "execution_count": 7,
   "metadata": {},
   "outputs": [
    {
     "data": {
      "text/plain": [
       "Index(['id', 'dateAdded', 'dateUpdated', 'name', 'asins', 'brand',\n",
       "       'categories', 'primaryCategories', 'imageURLs', 'keys', 'manufacturer',\n",
       "       'manufacturerNumber', 'reviews.date', 'reviews.dateAdded',\n",
       "       'reviews.dateSeen', 'reviews.doRecommend', 'reviews.id',\n",
       "       'reviews.numHelpful', 'reviews.rating', 'reviews.sourceURLs',\n",
       "       'reviews.text', 'reviews.title', 'reviews.username', 'sourceURLs'],\n",
       "      dtype='object')"
      ]
     },
     "execution_count": 7,
     "metadata": {},
     "output_type": "execute_result"
    }
   ],
   "source": [
    "df.columns"
   ]
  },
  {
   "cell_type": "code",
   "execution_count": 8,
   "metadata": {},
   "outputs": [
    {
     "data": {
      "text/plain": [
       "<bound method Series.info of 0       I thought it would be as big as small paper bu...\n",
       "1       This kindle is light and easy to use especiall...\n",
       "2       Didnt know how much i'd use a kindle so went f...\n",
       "3       I am 100 happy with my purchase. I caught it o...\n",
       "4       Solid entry level Kindle. Great for kids. Gift...\n",
       "                              ...                        \n",
       "4995    This is a great tablet for the price. Amazon i...\n",
       "4996    This tablet is the perfect size and so easy to...\n",
       "4997    Purchased this for my son. Has room to upgrade...\n",
       "4998    I had some thoughts about getting this for a 5...\n",
       "4999    this is a steal, have 8 gb model as well.This ...\n",
       "Name: reviews.text, Length: 5000, dtype: object>"
      ]
     },
     "execution_count": 8,
     "metadata": {},
     "output_type": "execute_result"
    }
   ],
   "source": [
    "reviews_data = df['reviews.text']\n",
    "reviews_data.info"
   ]
  },
  {
   "cell_type": "code",
   "execution_count": 9,
   "metadata": {},
   "outputs": [
    {
     "data": {
      "text/plain": [
       "0"
      ]
     },
     "execution_count": 9,
     "metadata": {},
     "output_type": "execute_result"
    }
   ],
   "source": [
    "reviews_data.isnull().sum()"
   ]
  },
  {
   "cell_type": "code",
   "execution_count": 10,
   "metadata": {},
   "outputs": [
    {
     "name": "stdout",
     "output_type": "stream",
     "text": [
      "<class 'pandas.core.frame.DataFrame'>\n",
      "RangeIndex: 5000 entries, 0 to 4999\n",
      "Data columns (total 24 columns):\n",
      " #   Column               Non-Null Count  Dtype  \n",
      "---  ------               --------------  -----  \n",
      " 0   id                   5000 non-null   object \n",
      " 1   dateAdded            5000 non-null   object \n",
      " 2   dateUpdated          5000 non-null   object \n",
      " 3   name                 5000 non-null   object \n",
      " 4   asins                5000 non-null   object \n",
      " 5   brand                5000 non-null   object \n",
      " 6   categories           5000 non-null   object \n",
      " 7   primaryCategories    5000 non-null   object \n",
      " 8   imageURLs            5000 non-null   object \n",
      " 9   keys                 5000 non-null   object \n",
      " 10  manufacturer         5000 non-null   object \n",
      " 11  manufacturerNumber   5000 non-null   object \n",
      " 12  reviews.date         5000 non-null   object \n",
      " 13  reviews.dateAdded    1052 non-null   object \n",
      " 14  reviews.dateSeen     5000 non-null   object \n",
      " 15  reviews.doRecommend  5000 non-null   bool   \n",
      " 16  reviews.id           29 non-null     float64\n",
      " 17  reviews.numHelpful   5000 non-null   int64  \n",
      " 18  reviews.rating       5000 non-null   int64  \n",
      " 19  reviews.sourceURLs   5000 non-null   object \n",
      " 20  reviews.text         5000 non-null   object \n",
      " 21  reviews.title        4987 non-null   object \n",
      " 22  reviews.username     4999 non-null   object \n",
      " 23  sourceURLs           5000 non-null   object \n",
      "dtypes: bool(1), float64(1), int64(2), object(20)\n",
      "memory usage: 903.4+ KB\n"
     ]
    }
   ],
   "source": [
    "clean_data= df.dropna(subset=['reviews.text'])\n",
    "clean_data.info()"
   ]
  },
  {
   "cell_type": "code",
   "execution_count": 11,
   "metadata": {},
   "outputs": [],
   "source": [
    "#Function for tokenization the document.\n",
    "def preprocess(text):\n",
    "    doc = nlp(text)\n",
    "    return ' '.join([token.lemma_.lower() for token in doc if not token.is_stop and not token.is_punct])\n",
    "\n",
    "#Function to convert preprocessed text to a SpaCy doc\n",
    "def get_doc(text):\n",
    "    return nlp(text)"
   ]
  },
  {
   "cell_type": "code",
   "execution_count": 12,
   "metadata": {},
   "outputs": [
    {
     "data": {
      "text/plain": [
       "0       (think, big, small, paper, turn, like, palm, t...\n",
       "1           (kindle, light, easy, use, especially, beach)\n",
       "2       (not, know, use, kindle, go, low, end, m, happ...\n",
       "3       (100, happy, purchase, catch, sale, good, pric...\n",
       "4       (solid, entry, level, kindle, great, kid, gift...\n",
       "                              ...                        \n",
       "4995            (great, tablet, price, amazon, good, job)\n",
       "4996    (tablet, perfect, size, easy, use, read, play,...\n",
       "4997    (purchase, son, room, upgrade, memory, allow, ...\n",
       "4998    (thought, get, 5, year, old, screen, protector...\n",
       "4999                         (steal, 8, gb, model, punch)\n",
       "Name: doc, Length: 5000, dtype: object"
      ]
     },
     "execution_count": 12,
     "metadata": {},
     "output_type": "execute_result"
    }
   ],
   "source": [
    "df['processed_overview'] =reviews_data.apply(preprocess) # creating another column to display the preprocessed document.\n",
    "df['doc'] = df['processed_overview'].apply(get_doc) # applying vectorize method to the preprocessed document.\n",
    "df['doc']"
   ]
  },
  {
   "cell_type": "code",
   "execution_count": 13,
   "metadata": {},
   "outputs": [
    {
     "data": {
      "text/plain": [
       "0       (think, big, small, paper, turn, like, palm, t...\n",
       "1           (kindle, light, easy, use, especially, beach)\n",
       "2       (not, know, use, kindle, go, low, end, m, happ...\n",
       "3       (100, happy, purchase, catch, sale, good, pric...\n",
       "4       (solid, entry, level, kindle, great, kid, gift...\n",
       "                              ...                        \n",
       "4995            (great, tablet, price, amazon, good, job)\n",
       "4996    (tablet, perfect, size, easy, use, read, play,...\n",
       "4997    (purchase, son, room, upgrade, memory, allow, ...\n",
       "4998    (thought, get, 5, year, old, screen, protector...\n",
       "4999                         (steal, 8, gb, model, punch)\n",
       "Name: doc, Length: 5000, dtype: object"
      ]
     },
     "execution_count": 13,
     "metadata": {},
     "output_type": "execute_result"
    }
   ],
   "source": [
    "df['processed_overview'] = df['reviews.text'].apply(preprocess) # creating another column to display the preprocessed document.\n",
    "df['doc'] = df['processed_overview'].apply(get_doc) # applying vectorize method to the preprocessed document.\n",
    "df['doc']"
   ]
  },
  {
   "cell_type": "code",
   "execution_count": 14,
   "metadata": {},
   "outputs": [
    {
     "data": {
      "text/plain": [
       "Index(['id', 'dateAdded', 'dateUpdated', 'name', 'asins', 'brand',\n",
       "       'categories', 'primaryCategories', 'imageURLs', 'keys', 'manufacturer',\n",
       "       'manufacturerNumber', 'reviews.date', 'reviews.dateAdded',\n",
       "       'reviews.dateSeen', 'reviews.doRecommend', 'reviews.id',\n",
       "       'reviews.numHelpful', 'reviews.rating', 'reviews.sourceURLs',\n",
       "       'reviews.text', 'reviews.title', 'reviews.username', 'sourceURLs',\n",
       "       'processed_overview', 'doc'],\n",
       "      dtype='object')"
      ]
     },
     "execution_count": 14,
     "metadata": {},
     "output_type": "execute_result"
    }
   ],
   "source": [
    "df.columns"
   ]
  },
  {
   "cell_type": "code",
   "execution_count": 15,
   "metadata": {},
   "outputs": [
    {
     "data": {
      "text/plain": [
       "'This kindle is light and easy to use especially at the beach!!!'"
      ]
     },
     "execution_count": 15,
     "metadata": {},
     "output_type": "execute_result"
    }
   ],
   "source": [
    "df['reviews.text'][1]\n"
   ]
  },
  {
   "cell_type": "code",
   "execution_count": 16,
   "metadata": {},
   "outputs": [
    {
     "data": {
      "text/plain": [
       "\"Didnt know how much i'd use a kindle so went for the lower end. im happy with it, even if its a little dark\""
      ]
     },
     "execution_count": 16,
     "metadata": {},
     "output_type": "execute_result"
    }
   ],
   "source": [
    "df['reviews.text'][2]"
   ]
  },
  {
   "cell_type": "code",
   "execution_count": 17,
   "metadata": {},
   "outputs": [
    {
     "name": "stdout",
     "output_type": "stream",
     "text": [
      "Sentiment of the review: negative\n"
     ]
    }
   ],
   "source": [
    "from textblob import TextBlob\n",
    "\n",
    "def analyze_sentiment(review):\n",
    "    \"\"\"\n",
    "    Perform sentiment analysis on a product review.\n",
    "\n",
    "    Parameters:\n",
    "    review (str): The product review text.\n",
    "\n",
    "    Returns:\n",
    "    str: Sentiment of the review ('positive', 'neutral', or 'negative').\n",
    "    \"\"\"\n",
    "    # Perform sentiment analysis using TextBlob\n",
    "    analysis = TextBlob(review)\n",
    "    # Get the polarity score (-1 to 1, where -1 is negative, 0 is neutral, and 1 is positive)\n",
    "    polarity_score = analysis.sentiment.polarity\n",
    "\n",
    "    # Determine sentiment based on polarity score\n",
    "    if polarity_score > 0:\n",
    "        return 'positive'\n",
    "    elif polarity_score == 0:\n",
    "        return 'neutral'\n",
    "    else:\n",
    "        return 'negative'\n",
    "\n",
    "\n",
    "review_1 = df['processed_overview'][0]\n",
    "sentiment = analyze_sentiment(review_1)\n",
    "print(\"Sentiment of the review:\", sentiment)\n"
   ]
  },
  {
   "cell_type": "code",
   "execution_count": 18,
   "metadata": {},
   "outputs": [
    {
     "name": "stdout",
     "output_type": "stream",
     "text": [
      "Sentiment of the review: positive\n"
     ]
    }
   ],
   "source": [
    "review_2 = df['processed_overview'][1]\n",
    "sentiment = analyze_sentiment(review_2)\n",
    "print(\"Sentiment of the review:\", sentiment)"
   ]
  },
  {
   "cell_type": "code",
   "execution_count": 19,
   "metadata": {},
   "outputs": [
    {
     "name": "stdout",
     "output_type": "stream",
     "text": [
      "0.713226069473544\n"
     ]
    },
    {
     "name": "stderr",
     "output_type": "stream",
     "text": [
      "C:\\Users\\Arnob\\AppData\\Local\\Temp\\ipykernel_28416\\2370574342.py:2: UserWarning: [W007] The model you're using has no word vectors loaded, so the result of the Doc.similarity method will be based on the tagger, parser and NER, which may not give useful similarity judgements. This may happen if you're using one of the small models, e.g. `en_core_web_sm`, which don't ship with word vectors and only use context-sensitive tensors. You can always add your own word vectors, or use one of the larger models instead if available.\n",
      "  similarity = nlp(df['doc'][1]).similarity(df['doc'][2])\n"
     ]
    }
   ],
   "source": [
    "# Calculate similarity scores\n",
    "similarity = nlp(df['doc'][1]).similarity(df['doc'][2])\n",
    "\n",
    "print(similarity)\n",
    "    "
   ]
  },
  {
   "cell_type": "code",
   "execution_count": null,
   "metadata": {},
   "outputs": [],
   "source": [
    "# New line added test commit "
   ]
  }
 ],
 "metadata": {
  "kernelspec": {
   "display_name": "_env5",
   "language": "python",
   "name": "python3"
  },
  "language_info": {
   "codemirror_mode": {
    "name": "ipython",
    "version": 3
   },
   "file_extension": ".py",
   "mimetype": "text/x-python",
   "name": "python",
   "nbconvert_exporter": "python",
   "pygments_lexer": "ipython3",
   "version": "3.11.0"
  }
 },
 "nbformat": 4,
 "nbformat_minor": 2
}
